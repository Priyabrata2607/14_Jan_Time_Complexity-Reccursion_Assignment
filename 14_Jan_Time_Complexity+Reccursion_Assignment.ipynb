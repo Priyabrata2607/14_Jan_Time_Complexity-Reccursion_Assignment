{
 "cells": [
  {
   "cell_type": "markdown",
   "id": "d1fb4a3b",
   "metadata": {},
   "source": [
    "# Find time complexity of below code blocks :"
   ]
  },
  {
   "cell_type": "markdown",
   "id": "0429bdae",
   "metadata": {},
   "source": [
    "Problem 1:\n",
    "\n",
    "def quicksort(arr):\n",
    "\n",
    "    if len(arr) <= 1:\n",
    "        return arr\n",
    "\n",
    "    pivot = arr[len(arr) // 2]\n",
    "    left = [x for x in arr if x < pivot]\n",
    "    middle = [x for x in arr if x == pivot]\n",
    "    right = [x for x in arr if x > pivot]\n",
    "    return quicksort(left) + middle + quicksort(right)"
   ]
  },
  {
   "cell_type": "markdown",
   "id": "dc8f374b",
   "metadata": {},
   "source": [
    "Answer 1: O(n logn)"
   ]
  },
  {
   "cell_type": "markdown",
   "id": "c06d4f47",
   "metadata": {},
   "source": [
    "Problem 2:\n",
    "\n",
    "def nested_loop_example(matrix):\n",
    "\n",
    "    rows, cols = len(matrix), len(matrix[0])\n",
    "\n",
    "    total = 0\n",
    "\n",
    "    for i in range(rows):\n",
    "\n",
    "        for j in range(cols):\n",
    "\n",
    "            total += matrix[i][j]\n",
    "\n",
    "    return total"
   ]
  },
  {
   "cell_type": "markdown",
   "id": "45b0b66b",
   "metadata": {},
   "source": [
    "Answer 2: O(n^2)"
   ]
  },
  {
   "cell_type": "markdown",
   "id": "117d975f",
   "metadata": {},
   "source": [
    "Problem 3:\n",
    "\n",
    "def example_function(arr):\n",
    "\n",
    "    result = 0\n",
    "\n",
    "    for element in arr:\n",
    "\n",
    "        result += element\n",
    "\n",
    "    return result"
   ]
  },
  {
   "cell_type": "markdown",
   "id": "3f1a52d8",
   "metadata": {},
   "source": [
    "Answer 3: O(n)"
   ]
  },
  {
   "cell_type": "markdown",
   "id": "957e3d7e",
   "metadata": {},
   "source": [
    "Problem 4:\n",
    "\n",
    "def longest_increasing_subsequence(nums):\n",
    "\n",
    "    n = len(nums)\n",
    "\n",
    "    lis = [1] * n\n",
    "\n",
    "    for i in range(1, n):\n",
    "\n",
    "        for j in range(0, i):\n",
    "\n",
    "            if nums[i] > nums[j] and lis[i] < lis[j] + 1:\n",
    "\n",
    "                lis[i] = lis[j] + 1\n",
    "\n",
    "    return max(lis)\n"
   ]
  },
  {
   "cell_type": "markdown",
   "id": "1e2f7c2b",
   "metadata": {},
   "source": [
    "Answer 4: O(n^2)"
   ]
  },
  {
   "cell_type": "markdown",
   "id": "80e3b35e",
   "metadata": {},
   "source": [
    "Problem 5:\n",
    "\n",
    "def mysterious_function(arr):\n",
    "\n",
    "    n = len(arr)\n",
    "\n",
    "    result = 0\n",
    "\n",
    "    for i in range(n):\n",
    "\n",
    "        for j in range(i, n):\n",
    "\n",
    "            result += arr[i] * arr[j]\n",
    "\n",
    "    return result"
   ]
  },
  {
   "cell_type": "markdown",
   "id": "38915c97",
   "metadata": {},
   "source": [
    "Answer 5: O(n^2)"
   ]
  },
  {
   "cell_type": "markdown",
   "id": "0b355bcf",
   "metadata": {},
   "source": [
    "# Solve the following problems on recursion"
   ]
  },
  {
   "cell_type": "markdown",
   "id": "4752f9d9",
   "metadata": {},
   "source": [
    "Problem 6 : Sum of Digits\n",
    "\n",
    "Write a recursive function to calculate the sum of digits of a given positive integer.\n",
    "\n",
    "\n",
    "sum_of_digits(123) -> 6"
   ]
  },
  {
   "cell_type": "code",
   "execution_count": 11,
   "id": "efca40bd",
   "metadata": {},
   "outputs": [
    {
     "name": "stdout",
     "output_type": "stream",
     "text": [
      "The sum of digits: 6\n"
     ]
    }
   ],
   "source": [
    "#Answer 6\n",
    "\n",
    "def sum_of_digits(num):\n",
    "    if num<10:\n",
    "        return num\n",
    "    else:\n",
    "        rem=num%10\n",
    "        return rem+sum_of_digits(num//10)\n",
    "    \n",
    "print('The sum of digits:',sum_of_digits(123))"
   ]
  },
  {
   "cell_type": "markdown",
   "id": "658ac613",
   "metadata": {},
   "source": [
    "Problem 7: Fibonacci Series\n",
    "\n",
    "\n",
    "Write a recursive function to generate the first n numbers of the Fibonacci series.\n",
    "\n",
    "\n",
    "fibonacci_series(6) -> [0, 1, 1, 2, 3, 5]"
   ]
  },
  {
   "cell_type": "code",
   "execution_count": 12,
   "id": "59e2503a",
   "metadata": {},
   "outputs": [
    {
     "name": "stdout",
     "output_type": "stream",
     "text": [
      "Fibonacci Series upto 6: [0, 1, 1, 2, 3, 5]\n"
     ]
    }
   ],
   "source": [
    "#Answer 7\n",
    "\n",
    "def fibonacci_series(n):\n",
    "    if n<=0:\n",
    "        return []\n",
    "    if n==1:\n",
    "        return [0]\n",
    "    if n==2:\n",
    "        return [0,1]\n",
    "    else:\n",
    "        fib_series=fibonacci_series(n-1)\n",
    "        fib_series.append(fib_series[-1]+fib_series[-2])\n",
    "        return fib_series\n",
    "    \n",
    "print('Fibonacci Series upto 6:',fibonacci_series(6))"
   ]
  },
  {
   "cell_type": "markdown",
   "id": "c907c123",
   "metadata": {},
   "source": [
    "Problem 8 : Subset Sum\n",
    "\n",
    "\n",
    "Given a set of positive integers and a target sum, write a recursive function to determine if there exists a subset\n",
    "of the integers that adds up to the target sum.\n",
    "\n",
    "\n",
    "subset_sum([3, 34, 4, 12, 5, 2], 9) -> True"
   ]
  },
  {
   "cell_type": "code",
   "execution_count": 13,
   "id": "c527f6ae",
   "metadata": {},
   "outputs": [
    {
     "name": "stdout",
     "output_type": "stream",
     "text": [
      "Subset_sum of [3,34,4,12,5,2],9-> True\n"
     ]
    }
   ],
   "source": [
    "#Answer 8\n",
    "\n",
    "def subset_sum(num_list,target_sum,n=None):\n",
    "    if n is None:\n",
    "        n=len(num_list)\n",
    "        \n",
    "    if target_sum==0:\n",
    "        return True\n",
    "    if n==0 and target_sum!=0:\n",
    "        return False\n",
    "    \n",
    "    if num_list[n-1]>target_sum:\n",
    "        return subset_sum(num_list,target_sum,n-1)\n",
    "    \n",
    "    \n",
    "    return subset_sum(num_list,target_sum,n-1) or subset_sum(num_list,target_sum-num_list[n-1],n-1)\n",
    "\n",
    "\n",
    "\n",
    "print('Subset_sum of [3,34,4,12,5,2],9->',subset_sum([3,34,4,12,5,2],9))\n",
    "    "
   ]
  },
  {
   "cell_type": "markdown",
   "id": "24f336c7",
   "metadata": {},
   "source": [
    "Problem 9: Word Break\n",
    "\n",
    "\n",
    "Given a non-empty string and a dictionary of words, write a recursive function to determine if the string can be\n",
    "segmented into a space-separated sequence of dictionary words.\n",
    "\n",
    "\n",
    "word_break(\"leetcode\", [\"leet\", \"code\"]) -> True"
   ]
  },
  {
   "cell_type": "code",
   "execution_count": 14,
   "id": "2161596f",
   "metadata": {},
   "outputs": [
    {
     "name": "stdout",
     "output_type": "stream",
     "text": [
      "word_break(\"leetcode\", [\"leet\", \"code\"])-> True\n"
     ]
    }
   ],
   "source": [
    "#Answer 9\n",
    "\n",
    "def word_break(word,word_dict):\n",
    "    if not word:\n",
    "        return True\n",
    "    for i in range(1,len(word)+1):\n",
    "        prefix=word[:i]\n",
    "        \n",
    "        if prefix in word_dict and word_break(word[i:],word_dict):\n",
    "            return True\n",
    "        \n",
    "        \n",
    "    return False\n",
    "\n",
    "print('word_break(\"leetcode\", [\"leet\", \"code\"])->',word_break(\"leetcode\",[\"leet\",\"code\"]))"
   ]
  },
  {
   "cell_type": "markdown",
   "id": "88c75655",
   "metadata": {},
   "source": [
    "Problem 10 : N-Queens\n",
    "\n",
    "\n",
    "Implement a recursive function to solve the N-Queens problem, where you have to place N queens on an N×N\n",
    "chessboard in such a way that no two queens threaten each other.\n",
    "\n",
    "\n",
    "n_queens(4)\n",
    "\n",
    "\n",
    "[\n",
    "\n",
    "[\".Q..\",\n",
    "\n",
    "\"...Q\",\n",
    "\n",
    "\"Q...\",\n",
    "\n",
    "\"..Q.\"],\n",
    "\n",
    "[\"..Q.\",\n",
    "\n",
    "\"Q...\",\n",
    "\n",
    "\"...Q\",\n",
    "\n",
    "\".Q..\"]\n",
    "\n",
    "]"
   ]
  },
  {
   "cell_type": "code",
   "execution_count": 15,
   "id": "a2d8ee39",
   "metadata": {},
   "outputs": [
    {
     "name": "stdout",
     "output_type": "stream",
     "text": [
      "['.Q..', '...Q', 'Q...', '..Q.']\n",
      "['..Q.', 'Q...', '...Q', '.Q..']\n"
     ]
    }
   ],
   "source": [
    "#Answer 10\n",
    "\n",
    "def is_safe(board,row,col,n):\n",
    "    for i in range(row):\n",
    "        if board[i][col]==1:\n",
    "            return False\n",
    "        \n",
    "    for i,j in zip(range(row,-1,-1),range(col,-1,-1)):\n",
    "        if board[i][j]==1:\n",
    "            return False\n",
    "    \n",
    "    for i,j in zip(range(row,-1,-1),range(col,n)):\n",
    "        if board[i][j]==1:\n",
    "            return False\n",
    "        \n",
    "    \n",
    "    return True\n",
    "\n",
    "def solve_n_queen_untill(board,row,n,result):\n",
    "    if row==n:\n",
    "        result.append([\"\".join([\"Q\" if col==1 else \".\" for col in row]) for row in board])\n",
    "        return\n",
    "    \n",
    "    for col in range(n):\n",
    "        if is_safe(board,row,col,n):\n",
    "            board[row][col]=1\n",
    "            solve_n_queen_untill(board,row+1,n,result)\n",
    "            board[row][col]=0\n",
    "            \n",
    "def solve_n_queen_(n):\n",
    "    board=[[0] * n for _ in range(n)]\n",
    "    result=[]\n",
    "    solve_n_queen_untill(board,0,n,result)\n",
    "    return result\n",
    "\n",
    "result=solve_n_queen_(4)\n",
    "for res in result:\n",
    "    print(res)\n",
    "    "
   ]
  }
 ],
 "metadata": {
  "kernelspec": {
   "display_name": "Python 3 (ipykernel)",
   "language": "python",
   "name": "python3"
  },
  "language_info": {
   "codemirror_mode": {
    "name": "ipython",
    "version": 3
   },
   "file_extension": ".py",
   "mimetype": "text/x-python",
   "name": "python",
   "nbconvert_exporter": "python",
   "pygments_lexer": "ipython3",
   "version": "3.9.12"
  }
 },
 "nbformat": 4,
 "nbformat_minor": 5
}
